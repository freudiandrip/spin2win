{
 "cells": [
  {
   "cell_type": "markdown",
   "id": "cd72ba45",
   "metadata": {},
   "source": [
    "# Browser Automation Lecture Notes\n",
    "Date: 2023-07-18\n",
    "\n",
    "We'll use this notebook to work through some examples and showcase some essential functions in Selenium.\n",
    "\n",
    "Rather than basic Selenium, we'll use Selenium Wire, which can be used to intercept API calls/network requests."
   ]
  },
  {
   "cell_type": "code",
   "execution_count": 208,
   "id": "2dc8b89a",
   "metadata": {},
   "outputs": [],
   "source": [
    "#!pip install selenium selenium-wire chromedriver-binary-auto"
   ]
  },
  {
   "cell_type": "code",
   "execution_count": 1,
   "id": "16499407",
   "metadata": {},
   "outputs": [],
   "source": [
    "# housekeeping\n",
    "from pathlib import Path\n",
    "import os\n",
    "import random\n",
    "import time\n",
    "\n",
    "#selenium\n",
    "from seleniumwire import webdriver\n",
    "from selenium.webdriver.common.by import By\n",
    "from selenium.webdriver.common.action_chains import ActionChains\n",
    "from selenium.webdriver.common.keys import Keys\n",
    "from selenium.webdriver.support.ui import WebDriverWait\n",
    "from selenium.webdriver.support import expected_conditions as EC\n",
    "\n",
    "from selenium.common.exceptions import (\n",
    "    MoveTargetOutOfBoundsException,\n",
    "    TimeoutException,\n",
    "    WebDriverException,\n",
    ")\n",
    "\n",
    "import chromedriver_binary"
   ]
  },
  {
   "cell_type": "code",
   "execution_count": 2,
   "id": "c6dbfd1b",
   "metadata": {},
   "outputs": [],
   "source": [
    "os.makedirs('data/', exist_ok=True)"
   ]
  },
  {
   "cell_type": "markdown",
   "id": "403216dd-e7c9-476f-8140-f980cdd0a1f2",
   "metadata": {},
   "source": [
    "### opens browsers with no cookies, untracked\n",
    "Though your IP is still trackable.\n",
    "\n",
    "Selenium runs on browser drivers (hence the usage of chrome drivers)"
   ]
  },
  {
   "cell_type": "code",
   "execution_count": 3,
   "id": "a75c540a",
   "metadata": {},
   "outputs": [],
   "source": [
    "def open_browser():\n",
    "    \"\"\"\n",
    "    Opens a new automated browser window with all tell-tales of automated browser disabled\n",
    "    \"\"\"\n",
    "    options = webdriver.ChromeOptions()\n",
    "    options.add_argument(\"start-maximized\")\n",
    "    \n",
    "    # remove all signs of this being an automated browser\n",
    "    options.add_argument('--disable-blink-features=AutomationControlled')\n",
    "    options.add_experimental_option(\"excludeSwitches\", [\"enable-automation\"])\n",
    "    options.add_experimental_option('useAutomationExtension', False)\n",
    "\n",
    "    # open the browser with the new options\n",
    "    driver = webdriver.Chrome(options=options)\n",
    "    return driver"
   ]
  },
  {
   "cell_type": "code",
   "execution_count": 5,
   "id": "5ab13570",
   "metadata": {},
   "outputs": [],
   "source": [
    "driver = open_browser()"
   ]
  },
  {
   "cell_type": "code",
   "execution_count": null,
   "id": "7eea18bf",
   "metadata": {},
   "outputs": [],
   "source": [
    "# how to visit websites\n",
    "url = 'https://amazon.com'\n",
    "driver.get(url)"
   ]
  },
  {
   "cell_type": "markdown",
   "id": "a45fc1a8",
   "metadata": {},
   "source": [
    "## XPATH\n",
    "You learned about beautifulSoup to work with HTML...\n",
    "\n",
    "Xpath is another way to donavigating hierarchical structures of HTML and SVG\n",
    "\n",
    "It's fast, versatile, and can be used in the developer console and in any computing language."
   ]
  },
  {
   "cell_type": "markdown",
   "id": "f2ea7ec7",
   "metadata": {},
   "source": [
    "## Using XPATH\n",
    "You can test xpaths in the devloper tools under the `console` tab using the function `$x()`. Read about that function [here](https://developer.chrome.com/docs/devtools/console/utilities/#xpath-function).\n",
    "\n",
    "\n",
    "You can use Selenium's `find_element` [function](https://selenium-python.readthedocs.io/locating-elements.html?highlight=find_element#locating-elements) to find the search box on Amazon site. It'll return the first match to whatever criteria you use.\n",
    "\n",
    "You can use whichever `By` [option](https://selenium-python.readthedocs.io/api.html?highlight=By#locate-elements-by) you feel most comfortable. This includes Xpath, but also any kind of CSS selector."
   ]
  },
  {
   "cell_type": "markdown",
   "id": "0e091f29-db0f-481d-a430-80834c6da6b4",
   "metadata": {},
   "source": [
    "## Using xpath inputs:\n",
    "-`XPATH` universal syntax, transferrable between browser console, jupyter (python code)\n",
    "- Precision is the name of the game; `find.elements` for sanity checks\n",
    "\n",
    "\n",
    "docs: https://selenium-python.readthedocs.io/locating-elements.html"
   ]
  },
  {
   "cell_type": "code",
   "execution_count": null,
   "id": "bcf5eafc",
   "metadata": {},
   "outputs": [],
   "source": [
    "# find element, in this case it's the input textbox for search\n",
    "# Aria is always helpful to look for, indicates accessible element\n",
    "## helpful to look for stable, unchanging elements.\n",
    "\n",
    "# docs: https://selenium-python.readthedocs.io/locating-elements.html\n",
    "\n",
    "search_box = driver.find_element(\n",
    "    By.CSS_SELECTOR, \n",
    "    'input#nav-bb-search'\n",
    ")\n",
    "search_box"
   ]
  },
  {
   "cell_type": "markdown",
   "id": "b742212d-0467-4e2a-b12e-ad6c9b54b962",
   "metadata": {},
   "source": [
    "### typing in our query using selenium"
   ]
  },
  {
   "cell_type": "code",
   "execution_count": null,
   "id": "f6d8f382",
   "metadata": {},
   "outputs": [],
   "source": [
    "search_term = 'hello kitty'\n",
    "search_box.send_keys(search_term)"
   ]
  },
  {
   "cell_type": "code",
   "execution_count": null,
   "id": "b279ff4e",
   "metadata": {},
   "outputs": [],
   "source": [
    "def press_enter(driver):\n",
    "    \"\"\"\n",
    "    Sends the ENTER to a webdriver instance.\n",
    "    \"\"\"\n",
    "    actions = ActionChains(driver)\n",
    "    actions.send_keys(Keys.ENTER)\n",
    "    actions.perform()"
   ]
  },
  {
   "cell_type": "markdown",
   "id": "e1736b56-86e5-44b4-af53-dab89a75ce9d",
   "metadata": {},
   "source": [
    "### hitting the enter button programmatically"
   ]
  },
  {
   "cell_type": "code",
   "execution_count": null,
   "id": "3376b114",
   "metadata": {},
   "outputs": [],
   "source": [
    "press_enter(driver)"
   ]
  },
  {
   "cell_type": "code",
   "execution_count": null,
   "id": "4ff7f602-381f-497d-b939-290774846352",
   "metadata": {},
   "outputs": [],
   "source": [
    "# downloading HTML to file\n",
    "driver.get(\"https://www.amazon.com/s?k=hello+kitty\")\n",
    "\n",
    "hk_path = \"data/hello_kitty_products.html\"\n",
    "with open(hk_path, \"w\", encoding='utf-8') as f:\n",
    "    f.write(driver.page_source)\n",
    "\n",
    "# driver.get(r'file:' + hk_path)"
   ]
  },
  {
   "cell_type": "markdown",
   "id": "2983abad-b4fa-4195-923f-04f6806fed89",
   "metadata": {},
   "source": [
    "### load the file in"
   ]
  },
  {
   "cell_type": "code",
   "execution_count": 6,
   "id": "acf5302c-7f3f-45c9-acc0-23e70c178d80",
   "metadata": {},
   "outputs": [],
   "source": [
    "# THIS IS THE CORRECT URL - FULL PATH, NOT RELATIVE.\n",
    "driver.get('file:///users/nguyenkim/.dev/lede-2023/class/0718-leon/browser-automation/data/hello_kitty_products.html')\n"
   ]
  },
  {
   "cell_type": "markdown",
   "id": "8f3c0c6a",
   "metadata": {},
   "source": [
    "### Parse the products\n",
    "\n",
    "For each product, let's print the brand name:\n",
    "\n",
    "Notice we're using `find_elements` (plural), this will return a list, rather than the first element."
   ]
  },
  {
   "cell_type": "code",
   "execution_count": 7,
   "id": "35d9f7fa",
   "metadata": {},
   "outputs": [
    {
     "data": {
      "text/plain": [
       "60"
      ]
     },
     "execution_count": 7,
     "metadata": {},
     "output_type": "execute_result"
    }
   ],
   "source": [
    "product_tiles = driver.find_elements(\n",
    "    By.XPATH, \n",
    "    './/div[contains(@cel_widget_id, \"MAIN-SEARCH_RESULTS-\")]' # the contains syntac allows a substring match\n",
    ")\n",
    "len(product_tiles)"
   ]
  },
  {
   "cell_type": "markdown",
   "id": "2d639435",
   "metadata": {},
   "source": [
    "Let's iterate through each product and print the brand name, which is saved as the only header (h2) in the element:"
   ]
  },
  {
   "cell_type": "code",
   "execution_count": 8,
   "id": "93f7dee8",
   "metadata": {},
   "outputs": [
    {
     "name": "stdout",
     "output_type": "stream",
     "text": [
      "Hello Kitty Rainbow Pullover Hoodie\n",
      "Lip Smacker Valentine's Day Collection Hello Kitty Lip Balm Tin\n",
      "ANEIMIAH Stitch Charm Bracelet, Kids Jewelry for Girls Chain Bracelet, Birthday Gifts for Girls- Ohana Means Family\n",
      "Cannity Hello Kitty Stickers, 50PCS Cute Stickers White Theme Kawaii Cat Stickers for Kids Teens Adults, Vinyl Waterproof Stickers Pack for Laptop Phone Luggage Water Bottles\n",
      "PaPiJoJo Cute Keychain Kawaii Anime Keychain, Hello Kitty, My Melody,Kuromi,Keroppi, Badtz-Maru, Cinnamoroll, Pompompurin\n",
      "Wet Brush Original Hello Kitty Detangling Brush - Under My Umbrella - All Hair Types - Ultra-Soft IntelliFlex Bristles Glide Through Tangles with Ease, White, 1 Count\n",
      "Crocs Unisex-Adult Classic Hello Kitty Clog\n",
      "Goody x Hello Kitty Ouchless Scrunchie - 6 Count, Assorted - Help Keep Hairs In Place - Hair Accessories to Style With Ease and Keep Your Hair Secured - For All Hair Types - Pain Free\n",
      "Sanrio Company, Ltd. Hello Kitty Tote Bag Hello Kitty Shopping Bag Gym Bag Hello Kitty Lunch Bag Japan exclusive | Hello Kitty Gift Sanrio Licensed Medium\n",
      "Kerr's Choice Hello Kitty Bag for Girls | Crossbody Purse | Cat Bag (style 2)\n"
     ]
    }
   ],
   "source": [
    "#print first 10 products\n",
    "for product in product_tiles[:10]:\n",
    "    print(product.find_element(\n",
    "        By.TAG_NAME, 'h2'\n",
    "    ).text)\n",
    "\n",
    "    "
   ]
  },
  {
   "cell_type": "markdown",
   "id": "2cbabf38",
   "metadata": {},
   "source": [
    "Although we did this all using Selenium, it's better to save the page source and then parse the saved results in BeautifulSoup, lxml, or whatever parsing software you prefer."
   ]
  },
  {
   "cell_type": "markdown",
   "id": "ff87373a",
   "metadata": {},
   "source": [
    "### Annotate the elements we find\n",
    "Let's find all the ads, and highlight them red on the page.\n",
    "\n",
    "You can \"inject\" attributes into elements, including style attributes."
   ]
  },
  {
   "cell_type": "code",
   "execution_count": 193,
   "id": "72563ef6-52be-4ad4-9a58-9af62a06e6e3",
   "metadata": {
    "jupyter": {
     "source_hidden": true
    }
   },
   "outputs": [],
   "source": [
    "# applying style using function\n",
    "\n",
    "# def transform(driver, img, color = 'red'):\n",
    "#     # setting up initial transition\n",
    "#     style = f\"background-color: {color} !important; \"\n",
    "#                 # \"transform: rotate(360deg) !important; \"\\\n",
    "#                 # \"transition: transform 20s linear;\"\n",
    "#     driver.execute_script(\n",
    "#         f\"arguments[0].setAttribute('style','{style}')\", elem\n",
    "#     )"
   ]
  },
  {
   "cell_type": "code",
   "execution_count": 11,
   "id": "8b001abf-1d93-49b9-a080-dc396f15bc22",
   "metadata": {},
   "outputs": [],
   "source": [
    "# testing to see if class gets added\n",
    "\n",
    "def classed(driver, elem):\n",
    "    class_to_add = \"test\"\n",
    "    driver.execute_script(\n",
    "            f\"arguments[0].setAttribute('class','{class_to_add}')\", elem\n",
    "    )"
   ]
  },
  {
   "cell_type": "code",
   "execution_count": 50,
   "id": "7e0a52f3",
   "metadata": {},
   "outputs": [],
   "source": [
    "def stain(driver, elem, color = 'red'):\n",
    "    \"\"\"\n",
    "    Injects a style attribute to stain `elem` the `color` red.\n",
    "    \"\"\"\n",
    "    style = f\"background-color: {color} !important; \"\\\n",
    "                    \"transition: all 0.5s linear;\"\n",
    "    driver.execute_script(\n",
    "            f\"arguments[0].setAttribute('style','{style}')\", elem\n",
    "    )"
   ]
  },
  {
   "cell_type": "code",
   "execution_count": 66,
   "id": "15aacda9",
   "metadata": {},
   "outputs": [],
   "source": [
    "# grabbing our elements\n",
    "\n",
    "# XPATH for sponsored divs\n",
    "ads = driver.find_elements(\n",
    "    By.XPATH, \n",
    "    # you can use XPATH to specify the attributes of the children of the node you want...\n",
    "    './/div[@data-asin and .//a[@aria-label=\"View Sponsored information or leave ad feedback\"]]'\n",
    ")\n",
    "\n",
    "\n",
    "# XPATH for img - this was working and now it's not??? I tried\n",
    "imgs = driver.find_elements(\n",
    "    By.XPATH, \n",
    "    './/div[@data-asin and .//a[@aria-label=\"View Sponsored information or leave ad feedback\"]//img]'\n",
    ")"
   ]
  },
  {
   "cell_type": "code",
   "execution_count": 63,
   "id": "ef68565e",
   "metadata": {},
   "outputs": [],
   "source": [
    "for ad in ads:\n",
    "    stain(driver, ad)\n",
    "\n",
    "# for img in imgs:\n",
    "#     stain(driver, img)"
   ]
  },
  {
   "cell_type": "markdown",
   "id": "4b887544-56db-4bb9-b687-f7e2dc5f53c1",
   "metadata": {},
   "source": [
    "### she spins....she wins\n",
    "if you wanted to loop it continuously, add a @keyframes."
   ]
  },
  {
   "cell_type": "code",
   "execution_count": 64,
   "id": "534f1869",
   "metadata": {},
   "outputs": [],
   "source": [
    "def spin_class(driver, elem):\n",
    "    # adding a class to rotate back and forth\n",
    "    spin = \"rotate\"\n",
    "    driver.execute_script(\n",
    "            f\"arguments[0].setAttribute('class','{spin}')\", elem\n",
    "    )"
   ]
  },
  {
   "cell_type": "code",
   "execution_count": 65,
   "id": "e37d410b-366d-42e0-99e9-a9b357263b9b",
   "metadata": {},
   "outputs": [],
   "source": [
    "for ad in ads:\n",
    "    spin_class(driver, ad)"
   ]
  },
  {
   "cell_type": "markdown",
   "id": "7c711acb",
   "metadata": {},
   "source": [
    "### Get height of document"
   ]
  },
  {
   "cell_type": "code",
   "execution_count": 170,
   "id": "ecc4651c",
   "metadata": {},
   "outputs": [],
   "source": [
    "import pandas as pd"
   ]
  },
  {
   "cell_type": "code",
   "execution_count": 171,
   "id": "891a83e8",
   "metadata": {},
   "outputs": [],
   "source": [
    "height = driver.execute_script(\"return document.body.scrollHeight\")"
   ]
  },
  {
   "cell_type": "code",
   "execution_count": 172,
   "id": "f2e5bd63",
   "metadata": {},
   "outputs": [
    {
     "data": {
      "text/plain": [
       "24060"
      ]
     },
     "execution_count": 172,
     "metadata": {},
     "output_type": "execute_result"
    }
   ],
   "source": [
    "height"
   ]
  },
  {
   "cell_type": "markdown",
   "id": "e03fc447",
   "metadata": {},
   "source": [
    "Get the coorindates and size of each element using the `rect` function."
   ]
  },
  {
   "cell_type": "code",
   "execution_count": 174,
   "id": "eac31077",
   "metadata": {},
   "outputs": [],
   "source": [
    "ad_metadata = []\n",
    "for elem in ads:\n",
    "    if elem.is_displayed(): # use this function to only analyze visable elements\n",
    "        ad_metadata.append(elem.rect)"
   ]
  },
  {
   "cell_type": "code",
   "execution_count": 175,
   "id": "08e26b4a",
   "metadata": {},
   "outputs": [],
   "source": [
    "df = pd.DataFrame(ad_metadata)"
   ]
  },
  {
   "cell_type": "code",
   "execution_count": 176,
   "id": "b667a64e",
   "metadata": {},
   "outputs": [],
   "source": [
    "df['how_far_down'] = df['y'] / height"
   ]
  },
  {
   "cell_type": "code",
   "execution_count": 177,
   "id": "05153775",
   "metadata": {},
   "outputs": [
    {
     "data": {
      "text/plain": [
       "how_far_down\n",
       "0.154937    1\n",
       "0.196222    1\n",
       "0.307844    1\n",
       "0.347152    1\n",
       "0.387291    1\n",
       "0.428576    1\n",
       "0.513898    1\n",
       "0.553206    1\n",
       "0.592514    1\n",
       "0.632801    1\n",
       "Name: count, dtype: int64"
      ]
     },
     "execution_count": 177,
     "metadata": {},
     "output_type": "execute_result"
    }
   ],
   "source": [
    "df.how_far_down.value_counts()"
   ]
  },
  {
   "cell_type": "markdown",
   "id": "9fd449d4",
   "metadata": {},
   "source": [
    "### Save receipts"
   ]
  },
  {
   "cell_type": "code",
   "execution_count": 178,
   "id": "b40ddb87",
   "metadata": {},
   "outputs": [],
   "source": [
    "# how to save what the emulator sees\n",
    "source = driver.page_source\n",
    "with open('data/amazon_selenium_test.html', 'w') as f:\n",
    "    f.write(source)"
   ]
  },
  {
   "cell_type": "code",
   "execution_count": 179,
   "id": "e8edb79b",
   "metadata": {},
   "outputs": [
    {
     "data": {
      "text/plain": [
       "True"
      ]
     },
     "execution_count": 179,
     "metadata": {},
     "output_type": "execute_result"
    }
   ],
   "source": [
    "# just what's visible\n",
    "driver.save_screenshot('data/amazon_selenium_test.png')"
   ]
  },
  {
   "cell_type": "markdown",
   "id": "fd4ae55a",
   "metadata": {},
   "source": [
    "There's are ways to do a full screen screenshot, but none of my function seem too work. Can you take a full-screenshot?"
   ]
  },
  {
   "cell_type": "markdown",
   "id": "ebaa3880",
   "metadata": {},
   "source": [
    "### Parsing the results however you like\n",
    "For me it means using lxml, but you can do this same thing in BeautifulSoup, and I encourage you do so..."
   ]
  },
  {
   "cell_type": "code",
   "execution_count": 200,
   "id": "fb020821",
   "metadata": {},
   "outputs": [],
   "source": [
    "from lxml import etree"
   ]
  },
  {
   "cell_type": "code",
   "execution_count": 201,
   "id": "6ba9105b",
   "metadata": {},
   "outputs": [],
   "source": [
    "dom = etree.HTML(open('data/amazon_selenium_test.html').read())"
   ]
  },
  {
   "cell_type": "code",
   "execution_count": 204,
   "id": "33639e33",
   "metadata": {},
   "outputs": [
    {
     "data": {
      "text/plain": [
       "<Element html at 0x114268fc0>"
      ]
     },
     "execution_count": 204,
     "metadata": {},
     "output_type": "execute_result"
    }
   ],
   "source": [
    "dom"
   ]
  },
  {
   "cell_type": "code",
   "execution_count": 205,
   "id": "1fd44481",
   "metadata": {},
   "outputs": [],
   "source": [
    "product_metadata = []\n",
    "for result in dom.xpath('.//div[contains(@cel_widget_id, \"MAIN-SEARCH_RESULTS\")]'):\n",
    "    # this is where you can parse as many fields as you like.\n",
    "    brand, product_name = result.xpath('.//h2//text()')[:2]\n",
    "    product_metadata.append({\n",
    "        'brand': brand,\n",
    "        'product_name': product_name\n",
    "    })"
   ]
  },
  {
   "cell_type": "code",
   "execution_count": 203,
   "id": "cf8e9846",
   "metadata": {},
   "outputs": [
    {
     "data": {
      "text/html": [
       "<div>\n",
       "<style scoped>\n",
       "    .dataframe tbody tr th:only-of-type {\n",
       "        vertical-align: middle;\n",
       "    }\n",
       "\n",
       "    .dataframe tbody tr th {\n",
       "        vertical-align: top;\n",
       "    }\n",
       "\n",
       "    .dataframe thead th {\n",
       "        text-align: right;\n",
       "    }\n",
       "</style>\n",
       "<table border=\"1\" class=\"dataframe\">\n",
       "  <thead>\n",
       "    <tr style=\"text-align: right;\">\n",
       "      <th></th>\n",
       "      <th>brand</th>\n",
       "      <th>product_name</th>\n",
       "    </tr>\n",
       "  </thead>\n",
       "  <tbody>\n",
       "    <tr>\n",
       "      <th>0</th>\n",
       "      <td>Hello Kitty Rainbow Pullover Hoodie</td>\n",
       "      <td></td>\n",
       "    </tr>\n",
       "    <tr>\n",
       "      <th>1</th>\n",
       "      <td>Lip Smacker Valentine's Day Collection Hello K...</td>\n",
       "      <td></td>\n",
       "    </tr>\n",
       "    <tr>\n",
       "      <th>2</th>\n",
       "      <td>ANEIMIAH Stitch Charm Bracelet, Kids Jewelry f...</td>\n",
       "      <td></td>\n",
       "    </tr>\n",
       "    <tr>\n",
       "      <th>3</th>\n",
       "      <td>Cannity Hello Kitty Stickers, 50PCS Cute Stick...</td>\n",
       "      <td></td>\n",
       "    </tr>\n",
       "    <tr>\n",
       "      <th>4</th>\n",
       "      <td>PaPiJoJo Cute Keychain Kawaii Anime Keychain, ...</td>\n",
       "      <td></td>\n",
       "    </tr>\n",
       "    <tr>\n",
       "      <th>5</th>\n",
       "      <td>Wet Brush Original Hello Kitty Detangling Brus...</td>\n",
       "      <td></td>\n",
       "    </tr>\n",
       "    <tr>\n",
       "      <th>6</th>\n",
       "      <td>Crocs Unisex-Adult Classic Hello Kitty Clog</td>\n",
       "      <td></td>\n",
       "    </tr>\n",
       "    <tr>\n",
       "      <th>7</th>\n",
       "      <td>Goody x Hello Kitty Ouchless Scrunchie - 6 Cou...</td>\n",
       "      <td></td>\n",
       "    </tr>\n",
       "    <tr>\n",
       "      <th>8</th>\n",
       "      <td>Sanrio Company, Ltd. Hello Kitty Tote Bag Hell...</td>\n",
       "      <td></td>\n",
       "    </tr>\n",
       "    <tr>\n",
       "      <th>9</th>\n",
       "      <td>Kerr's Choice Hello Kitty Bag for Girls | Cros...</td>\n",
       "      <td></td>\n",
       "    </tr>\n",
       "    <tr>\n",
       "      <th>10</th>\n",
       "      <td>Hello Kitty Hula Summer Tee Shirt</td>\n",
       "      <td></td>\n",
       "    </tr>\n",
       "    <tr>\n",
       "      <th>11</th>\n",
       "      <td>Sicpfuj Cute Cuff Bracelets for Women &amp; Girls,...</td>\n",
       "      <td></td>\n",
       "    </tr>\n",
       "    <tr>\n",
       "      <th>12</th>\n",
       "      <td>Zmioviq Cute Cuff Bangle Bracelets for Women G...</td>\n",
       "      <td></td>\n",
       "    </tr>\n",
       "    <tr>\n",
       "      <th>13</th>\n",
       "      <td>Hello Kitty Beauty Silky Satin Standard Pillow...</td>\n",
       "      <td></td>\n",
       "    </tr>\n",
       "    <tr>\n",
       "      <th>14</th>\n",
       "      <td>Firefly Power Protect Battery Toothbrush with ...</td>\n",
       "      <td></td>\n",
       "    </tr>\n",
       "    <tr>\n",
       "      <th>15</th>\n",
       "      <td>Hello Kitty Air Freshener - Strawberry Scent -...</td>\n",
       "      <td></td>\n",
       "    </tr>\n",
       "    <tr>\n",
       "      <th>16</th>\n",
       "      <td>Silver Buffalo Hello Kitty Strawberry Face Dou...</td>\n",
       "      <td></td>\n",
       "    </tr>\n",
       "    <tr>\n",
       "      <th>17</th>\n",
       "      <td>G-Ahora Kitty Style Magnetic Couples Bracelets...</td>\n",
       "      <td></td>\n",
       "    </tr>\n",
       "    <tr>\n",
       "      <th>18</th>\n",
       "      <td>Cute Car Mirror Accessories for Women and Girl...</td>\n",
       "      <td></td>\n",
       "    </tr>\n",
       "    <tr>\n",
       "      <th>19</th>\n",
       "      <td>WIEEZN Cute Toiletry Bag for Women Girls, PU L...</td>\n",
       "      <td></td>\n",
       "    </tr>\n",
       "    <tr>\n",
       "      <th>20</th>\n",
       "      <td>Hongvkae Kids Summer T-Shirt and Shorts Set Pl...</td>\n",
       "      <td></td>\n",
       "    </tr>\n",
       "    <tr>\n",
       "      <th>21</th>\n",
       "      <td>Sanrio Hello Kitty Face Boat Type Cosmetics Sm...</td>\n",
       "      <td></td>\n",
       "    </tr>\n",
       "    <tr>\n",
       "      <th>22</th>\n",
       "      <td>Sanrio Hello Kitty Snack Box</td>\n",
       "      <td></td>\n",
       "    </tr>\n",
       "    <tr>\n",
       "      <th>23</th>\n",
       "      <td>Hello Kitty Plush Toys, Cute Soft Doll Toys, B...</td>\n",
       "      <td></td>\n",
       "    </tr>\n",
       "    <tr>\n",
       "      <th>24</th>\n",
       "      <td>Hello Kitty \"It's My Birthday\" Tee Shirt</td>\n",
       "      <td></td>\n",
       "    </tr>\n",
       "    <tr>\n",
       "      <th>25</th>\n",
       "      <td>WOODERFUL LIFE Wooden Music Box | Hello Kitty ...</td>\n",
       "      <td></td>\n",
       "    </tr>\n",
       "    <tr>\n",
       "      <th>26</th>\n",
       "      <td>WOODERFUL LIFE Wooden Music Box | Hello Kitty ...</td>\n",
       "      <td></td>\n",
       "    </tr>\n",
       "    <tr>\n",
       "      <th>27</th>\n",
       "      <td>WIEEZN Kawaii Keychain with Artificial Rabbit ...</td>\n",
       "      <td></td>\n",
       "    </tr>\n",
       "    <tr>\n",
       "      <th>28</th>\n",
       "      <td>Hello Kitty Girls 2 Piece Zip Up Hoodie and Jo...</td>\n",
       "      <td></td>\n",
       "    </tr>\n",
       "    <tr>\n",
       "      <th>29</th>\n",
       "      <td>SANRIO KD1 Resin Mug, 1 Count (Pack of 1), hel...</td>\n",
       "      <td></td>\n",
       "    </tr>\n",
       "    <tr>\n",
       "      <th>30</th>\n",
       "      <td>Franco Kids Super Soft Cotton Beach Towel, 58 ...</td>\n",
       "      <td></td>\n",
       "    </tr>\n",
       "    <tr>\n",
       "      <th>31</th>\n",
       "      <td>Franco Collectibles Sanrio Hello Kitty Polka D...</td>\n",
       "      <td></td>\n",
       "    </tr>\n",
       "    <tr>\n",
       "      <th>32</th>\n",
       "      <td>Papyrus Hello Kitty Birthday Card for Girl (Bi...</td>\n",
       "      <td></td>\n",
       "    </tr>\n",
       "    <tr>\n",
       "      <th>33</th>\n",
       "      <td>Hello Kitty 1:24 2002 Nissan Skyline GT-R (BNR...</td>\n",
       "      <td></td>\n",
       "    </tr>\n",
       "    <tr>\n",
       "      <th>34</th>\n",
       "      <td>GOODY x Hello Kitty Ouchless Headband - 3 Coun...</td>\n",
       "      <td></td>\n",
       "    </tr>\n",
       "    <tr>\n",
       "      <th>35</th>\n",
       "      <td>Horizon Group USA Hello Kitty Paint Your Own P...</td>\n",
       "      <td></td>\n",
       "    </tr>\n",
       "    <tr>\n",
       "      <th>36</th>\n",
       "      <td>5D Diamond Painting Kits for Adults DIY Hello ...</td>\n",
       "      <td></td>\n",
       "    </tr>\n",
       "    <tr>\n",
       "      <th>37</th>\n",
       "      <td>Cute Hello Kitty Plush Toys, Cat Pillow Plush,...</td>\n",
       "      <td></td>\n",
       "    </tr>\n",
       "    <tr>\n",
       "      <th>38</th>\n",
       "      <td>Hello Kitty All-in-One DIY , Design Your Own S...</td>\n",
       "      <td></td>\n",
       "    </tr>\n",
       "    <tr>\n",
       "      <th>39</th>\n",
       "      <td>hitioCC 30 PCS New Cute Kitty Shoe Charms for ...</td>\n",
       "      <td></td>\n",
       "    </tr>\n",
       "    <tr>\n",
       "      <th>40</th>\n",
       "      <td>eKids Hello Kitty Kids Bluetooth Headphones, W...</td>\n",
       "      <td></td>\n",
       "    </tr>\n",
       "    <tr>\n",
       "      <th>41</th>\n",
       "      <td>Impressions Vanity Hello Kitty Tabletop Mount ...</td>\n",
       "      <td></td>\n",
       "    </tr>\n",
       "    <tr>\n",
       "      <th>42</th>\n",
       "      <td>Shoe Charms for Hello Kitty for Crocs, 36 PCS ...</td>\n",
       "      <td></td>\n",
       "    </tr>\n",
       "    <tr>\n",
       "      <th>43</th>\n",
       "      <td>Silver Buffalo Sanrio Hello Kitty Cup Noodles ...</td>\n",
       "      <td></td>\n",
       "    </tr>\n",
       "    <tr>\n",
       "      <th>44</th>\n",
       "      <td>Hello Kitty Create Your Own Squishy Diary by H...</td>\n",
       "      <td></td>\n",
       "    </tr>\n",
       "    <tr>\n",
       "      <th>45</th>\n",
       "      <td>Sanrio Hello Kitty and Friends 1500+ Super Cut...</td>\n",
       "      <td></td>\n",
       "    </tr>\n",
       "    <tr>\n",
       "      <th>46</th>\n",
       "      <td>Tosiker 8 Pieces Kitty Bracelets Set, Sanri Cr...</td>\n",
       "      <td></td>\n",
       "    </tr>\n",
       "    <tr>\n",
       "      <th>47</th>\n",
       "      <td>30PCS 2.5D Resin Hello Kitty Sanrio Croc Charm...</td>\n",
       "      <td></td>\n",
       "    </tr>\n",
       "    <tr>\n",
       "      <th>48</th>\n",
       "      <td>BOBOCOOM 6 Pcs Cute Cartoon Animal Figures Set...</td>\n",
       "      <td></td>\n",
       "    </tr>\n",
       "    <tr>\n",
       "      <th>49</th>\n",
       "      <td>Lip Smacker Lippy Pal 2 Pack - Hello Kitty</td>\n",
       "      <td></td>\n",
       "    </tr>\n",
       "    <tr>\n",
       "      <th>50</th>\n",
       "      <td>Cat Night Light - Anime Charater 7 Color Chang...</td>\n",
       "      <td></td>\n",
       "    </tr>\n",
       "    <tr>\n",
       "      <th>51</th>\n",
       "      <td>Hello Kitty Girls 2-Piece Fashion Tee Shirt an...</td>\n",
       "      <td></td>\n",
       "    </tr>\n",
       "    <tr>\n",
       "      <th>52</th>\n",
       "      <td>Cat Case 3D Cartoon Animal Cover,Kids Girls An...</td>\n",
       "      <td></td>\n",
       "    </tr>\n",
       "    <tr>\n",
       "      <th>53</th>\n",
       "      <td>NIVEK Kitty Lighter Pink Flame KT Cat Dress Pi...</td>\n",
       "      <td></td>\n",
       "    </tr>\n",
       "    <tr>\n",
       "      <th>54</th>\n",
       "      <td>ZEKLZD Kawaii Plush Toys,10\" Lovely Plushies,C...</td>\n",
       "      <td></td>\n",
       "    </tr>\n",
       "    <tr>\n",
       "      <th>55</th>\n",
       "      <td>5PCS Kitty Makeup Brush with Kitty Cat Headban...</td>\n",
       "      <td></td>\n",
       "    </tr>\n",
       "    <tr>\n",
       "      <th>56</th>\n",
       "      <td>Crocs Jibbitz 5-Pack Hello Kitty and Friends S...</td>\n",
       "      <td></td>\n",
       "    </tr>\n",
       "    <tr>\n",
       "      <th>57</th>\n",
       "      <td>Cute Kitten Plush Toys Doll, Soft Cat Plush To...</td>\n",
       "      <td></td>\n",
       "    </tr>\n",
       "    <tr>\n",
       "      <th>58</th>\n",
       "      <td>24 Pc Hello Kitty Happy Birthday Banner – Fun ...</td>\n",
       "      <td></td>\n",
       "    </tr>\n",
       "    <tr>\n",
       "      <th>59</th>\n",
       "      <td>Zak Designs Sanrio Hello Kitty Vacuum Insulate...</td>\n",
       "      <td></td>\n",
       "    </tr>\n",
       "  </tbody>\n",
       "</table>\n",
       "</div>"
      ],
      "text/plain": [
       "                                                brand product_name\n",
       "0                 Hello Kitty Rainbow Pullover Hoodie             \n",
       "1   Lip Smacker Valentine's Day Collection Hello K...             \n",
       "2   ANEIMIAH Stitch Charm Bracelet, Kids Jewelry f...             \n",
       "3   Cannity Hello Kitty Stickers, 50PCS Cute Stick...             \n",
       "4   PaPiJoJo Cute Keychain Kawaii Anime Keychain, ...             \n",
       "5   Wet Brush Original Hello Kitty Detangling Brus...             \n",
       "6         Crocs Unisex-Adult Classic Hello Kitty Clog             \n",
       "7   Goody x Hello Kitty Ouchless Scrunchie - 6 Cou...             \n",
       "8   Sanrio Company, Ltd. Hello Kitty Tote Bag Hell...             \n",
       "9   Kerr's Choice Hello Kitty Bag for Girls | Cros...             \n",
       "10                  Hello Kitty Hula Summer Tee Shirt             \n",
       "11  Sicpfuj Cute Cuff Bracelets for Women & Girls,...             \n",
       "12  Zmioviq Cute Cuff Bangle Bracelets for Women G...             \n",
       "13  Hello Kitty Beauty Silky Satin Standard Pillow...             \n",
       "14  Firefly Power Protect Battery Toothbrush with ...             \n",
       "15  Hello Kitty Air Freshener - Strawberry Scent -...             \n",
       "16  Silver Buffalo Hello Kitty Strawberry Face Dou...             \n",
       "17  G-Ahora Kitty Style Magnetic Couples Bracelets...             \n",
       "18  Cute Car Mirror Accessories for Women and Girl...             \n",
       "19  WIEEZN Cute Toiletry Bag for Women Girls, PU L...             \n",
       "20  Hongvkae Kids Summer T-Shirt and Shorts Set Pl...             \n",
       "21  Sanrio Hello Kitty Face Boat Type Cosmetics Sm...             \n",
       "22                       Sanrio Hello Kitty Snack Box             \n",
       "23  Hello Kitty Plush Toys, Cute Soft Doll Toys, B...             \n",
       "24           Hello Kitty \"It's My Birthday\" Tee Shirt             \n",
       "25  WOODERFUL LIFE Wooden Music Box | Hello Kitty ...             \n",
       "26  WOODERFUL LIFE Wooden Music Box | Hello Kitty ...             \n",
       "27  WIEEZN Kawaii Keychain with Artificial Rabbit ...             \n",
       "28  Hello Kitty Girls 2 Piece Zip Up Hoodie and Jo...             \n",
       "29  SANRIO KD1 Resin Mug, 1 Count (Pack of 1), hel...             \n",
       "30  Franco Kids Super Soft Cotton Beach Towel, 58 ...             \n",
       "31  Franco Collectibles Sanrio Hello Kitty Polka D...             \n",
       "32  Papyrus Hello Kitty Birthday Card for Girl (Bi...             \n",
       "33  Hello Kitty 1:24 2002 Nissan Skyline GT-R (BNR...             \n",
       "34  GOODY x Hello Kitty Ouchless Headband - 3 Coun...             \n",
       "35  Horizon Group USA Hello Kitty Paint Your Own P...             \n",
       "36  5D Diamond Painting Kits for Adults DIY Hello ...             \n",
       "37  Cute Hello Kitty Plush Toys, Cat Pillow Plush,...             \n",
       "38  Hello Kitty All-in-One DIY , Design Your Own S...             \n",
       "39  hitioCC 30 PCS New Cute Kitty Shoe Charms for ...             \n",
       "40  eKids Hello Kitty Kids Bluetooth Headphones, W...             \n",
       "41  Impressions Vanity Hello Kitty Tabletop Mount ...             \n",
       "42  Shoe Charms for Hello Kitty for Crocs, 36 PCS ...             \n",
       "43  Silver Buffalo Sanrio Hello Kitty Cup Noodles ...             \n",
       "44  Hello Kitty Create Your Own Squishy Diary by H...             \n",
       "45  Sanrio Hello Kitty and Friends 1500+ Super Cut...             \n",
       "46  Tosiker 8 Pieces Kitty Bracelets Set, Sanri Cr...             \n",
       "47  30PCS 2.5D Resin Hello Kitty Sanrio Croc Charm...             \n",
       "48  BOBOCOOM 6 Pcs Cute Cartoon Animal Figures Set...             \n",
       "49         Lip Smacker Lippy Pal 2 Pack - Hello Kitty             \n",
       "50  Cat Night Light - Anime Charater 7 Color Chang...             \n",
       "51  Hello Kitty Girls 2-Piece Fashion Tee Shirt an...             \n",
       "52  Cat Case 3D Cartoon Animal Cover,Kids Girls An...             \n",
       "53  NIVEK Kitty Lighter Pink Flame KT Cat Dress Pi...             \n",
       "54  ZEKLZD Kawaii Plush Toys,10\" Lovely Plushies,C...             \n",
       "55  5PCS Kitty Makeup Brush with Kitty Cat Headban...             \n",
       "56  Crocs Jibbitz 5-Pack Hello Kitty and Friends S...             \n",
       "57  Cute Kitten Plush Toys Doll, Soft Cat Plush To...             \n",
       "58  24 Pc Hello Kitty Happy Birthday Banner – Fun ...             \n",
       "59  Zak Designs Sanrio Hello Kitty Vacuum Insulate...             "
      ]
     },
     "execution_count": 203,
     "metadata": {},
     "output_type": "execute_result"
    }
   ],
   "source": [
    "pd.DataFrame(product_metadata)"
   ]
  },
  {
   "cell_type": "markdown",
   "id": "3cb2bc98-24a5-469d-a6e0-6ee6f3698c88",
   "metadata": {},
   "source": [
    "### References:\n",
    "- https://selenium-python.readthedocs.io/locating-elements.html\n",
    "- https://lxml.de/xpathxslt.html\n",
    "- https://stackoverflow.com/questions/55796339/selenium-how-to-load-a-local-html-file-on-mac\n",
    "- https://stackoverflow.com/questions/42900214/how-to-download-a-html-webpage-using-selenium-with-python\n",
    "- https://stackoverflow.com/questions/13309673/how-to-play-css3-transitions-in-a-loop\n",
    "- https://stackoverflow.com/questions/16176648/trying-to-do-a-css-transition-on-a-class-change\n",
    "- https://www.w3schools.com/css/css3_transitions.asp\n",
    "- https://realpython.com/python-pathlib/"
   ]
  },
  {
   "cell_type": "markdown",
   "id": "3ad54c4c-7c6c-42c2-9481-4a3ccd33b695",
   "metadata": {},
   "source": [
    "---"
   ]
  },
  {
   "cell_type": "markdown",
   "id": "f20368a8-a3cc-4323-ace8-d7d4bca8549a",
   "metadata": {},
   "source": [
    "---"
   ]
  },
  {
   "cell_type": "markdown",
   "id": "9319440e-6608-488a-8c98-28a9109f31b6",
   "metadata": {},
   "source": [
    "---"
   ]
  }
 ],
 "metadata": {
  "kernelspec": {
   "display_name": "Python 3 (ipykernel)",
   "language": "python",
   "name": "python3"
  },
  "language_info": {
   "codemirror_mode": {
    "name": "ipython",
    "version": 3
   },
   "file_extension": ".py",
   "mimetype": "text/x-python",
   "name": "python",
   "nbconvert_exporter": "python",
   "pygments_lexer": "ipython3",
   "version": "3.10.11"
  }
 },
 "nbformat": 4,
 "nbformat_minor": 5
}
